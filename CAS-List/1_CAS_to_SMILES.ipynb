{
 "cells": [
  {
   "cell_type": "markdown",
   "metadata": {},
   "source": [
    "Importing required packages."
   ]
  },
  {
   "cell_type": "code",
   "execution_count": 17,
   "metadata": {},
   "outputs": [],
   "source": [
    "import cirpy\n",
    "import pandas as pd\n",
    "import csv"
   ]
  },
  {
   "cell_type": "markdown",
   "metadata": {},
   "source": [
    "Loading the data. This package cannot handle large datasets. Therefore I must break the datasets into smaller pieces. This is not dependent on the computational power available. It seems to time out if taking too long.  About 500 data points should be sufficiently small. \n"
   ]
  },
  {
   "cell_type": "code",
   "execution_count": 26,
   "metadata": {},
   "outputs": [],
   "source": [
    "# Loading data.\n",
    "Just_CAS_csv = pd.read_csv(r\"0_MASTER_CAS_List.csv\")\n",
    "\n",
    "# Making a list of just CAS numbers from File.\n",
    "Just_CAS_list = Just_CAS_csv[\"CAS\"].values.tolist()\n",
    "\n",
    "# Removing any empty spaces for ease of processing.\n",
    "CAS_data = [i.replace(\" \", \"\") for i in Just_CAS_list]\n",
    "\n",
    "# Splitting the data set into smaller pieces.\n",
    "\n",
    "first_CAS_data = CAS_data[0:500]\n",
    "second_CAS_data = CAS_data[500:1000]\n",
    "third_CAS_data = CAS_data[1000:1500]\n",
    "fourth_CAS_data = CAS_data[1500:2000]\n",
    "fifth_CAS_data = CAS_data[2000:2500]\n",
    "sixth_CAS_data = CAS_data[2500:3000]\n",
    "seventh_CAS_data = CAS_data[3000:3500]\n",
    "eighth_CAS_data = CAS_data[3500:3974]"
   ]
  },
  {
   "cell_type": "markdown",
   "metadata": {},
   "source": [
    "Function that converts to smiles."
   ]
  },
  {
   "cell_type": "code",
   "execution_count": 20,
   "metadata": {},
   "outputs": [],
   "source": [
    "def CAS_to_SMILES(CAS):\n",
    "\n",
    "    \"\"\"\n",
    "    The purpose of this function is to take a CAS number and convert it into a SMILES string.\n",
    "    In order for this function to work there must be an internet connection.\n",
    "\n",
    "    Args:\n",
    "        CAS: This can be either a singe string of CAS numbers or a list of strings.\n",
    "        \n",
    "    Returns:\n",
    "        A data frame will be returned that has a column headers of the original CAS number\n",
    "        and the resolved SMILES.\n",
    "\n",
    "    Important Notes:\n",
    "        If something that is entered is not a CAS number it will still add the CAS number to\n",
    "        the data frame but the SMILES will be blank. \n",
    "\n",
    "    Time:\n",
    "        This takes me 68 minutes to work on 4000 values. \n",
    "\n",
    "    \"\"\"\n",
    "    \n",
    "    # Creating an empty list to store the data for later.\n",
    "    CAS_list = []\n",
    "    SMILES_list = []\n",
    "\n",
    "    for i in CAS:\n",
    "\n",
    "        # Adds a ' to the end as some CAS numbers will be converted into dates on excel.\n",
    "        CAS_list.append(i + \"'\")\n",
    "        SMILES_list.append(cirpy.resolve(i, \"smiles\"))\n",
    "        \n",
    "\n",
    "\n",
    "    df = pd.DataFrame({\"CAS\": CAS_list, \"SMILES\": SMILES_list})\n",
    "    return df"
   ]
  },
  {
   "cell_type": "markdown",
   "metadata": {},
   "source": [
    "Running function on data."
   ]
  },
  {
   "cell_type": "code",
   "execution_count": null,
   "metadata": {},
   "outputs": [],
   "source": [
    "part_1 = CAS_to_SMILES(first_CAS_data)\n",
    "print(\"1 done\")\n",
    "part_2 = CAS_to_SMILES(second_CAS_data)\n",
    "print(\"2 done\")\n",
    "part_3 = CAS_to_SMILES(third_CAS_data)\n",
    "print(\"3 done\")\n",
    "part_4 = CAS_to_SMILES(fourth_CAS_data)\n",
    "print(\"4 done\")\n",
    "part_5 = CAS_to_SMILES(fifth_CAS_data)\n",
    "print(\"5 done\")\n",
    "part_6 = CAS_to_SMILES(sixth_CAS_data)\n",
    "print(\"6 done\")\n",
    "part_7 = CAS_to_SMILES(seventh_CAS_data)\n",
    "print(\"7 done\")\n",
    "part_8 = CAS_to_SMILES(eighth_CAS_data)\n",
    "print(\"8 done\")"
   ]
  },
  {
   "cell_type": "markdown",
   "metadata": {},
   "source": [
    "Concatenating the data together and saving it to a csv."
   ]
  },
  {
   "cell_type": "code",
   "execution_count": 24,
   "metadata": {},
   "outputs": [],
   "source": [
    "df_concat = pd.concat([part_1, part_2, part_3, part_4, part_5, part_6, part_7, part_8], axis=0)\n",
    "df_concat.to_csv(\"EDIT_CAS_and_SMILES.csv\", index= False)"
   ]
  },
  {
   "cell_type": "markdown",
   "metadata": {},
   "source": [
    "# "
   ]
  },
  {
   "cell_type": "markdown",
   "metadata": {},
   "source": [
    "For testing purposes. Can be ignored."
   ]
  },
  {
   "cell_type": "code",
   "execution_count": 6,
   "metadata": {},
   "outputs": [],
   "source": [
    "test_CAS_data = CAS_data[0:10]\n",
    "test_CAS_data"
   ]
  },
  {
   "cell_type": "code",
   "execution_count": 12,
   "metadata": {},
   "outputs": [],
   "source": [
    "qqq = CAS_to_SMILES(test_CAS_data)\n",
    "\n",
    "qqq.to_csv(\"TEST_CAS_to_SMILES.csv\")"
   ]
  }
 ],
 "metadata": {
  "kernelspec": {
   "display_name": "Python 3.9.7 ('base')",
   "language": "python",
   "name": "python3"
  },
  "language_info": {
   "codemirror_mode": {
    "name": "ipython",
    "version": 3
   },
   "file_extension": ".py",
   "mimetype": "text/x-python",
   "name": "python",
   "nbconvert_exporter": "python",
   "pygments_lexer": "ipython3",
   "version": "3.9.7"
  },
  "orig_nbformat": 4,
  "vscode": {
   "interpreter": {
    "hash": "52634da84371cba311ea128a5ea7cdc41ff074b781779e754b270ff9f8153cee"
   }
  }
 },
 "nbformat": 4,
 "nbformat_minor": 2
}
