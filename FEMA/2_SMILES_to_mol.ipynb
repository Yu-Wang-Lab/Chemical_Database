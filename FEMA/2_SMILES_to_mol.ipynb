{
 "cells": [
  {
   "cell_type": "markdown",
   "metadata": {},
   "source": [
    "RDKit needs an environment to run properly. If not done already, setup steps are below.\n",
    "\n",
    "Open Anaconda Prompt and run the following line of code.\n",
    "conda create -c conda-forge -n my-rdkit-env rdkit\n",
    "When running it for the first time this will prompt you to update some packages.\n",
    "\n",
    "Go to https://www.rdkit.org/docs/Install.html for the best advice."
   ]
  },
  {
   "cell_type": "markdown",
   "metadata": {},
   "source": [
    "Importing packages needed."
   ]
  },
  {
   "cell_type": "code",
   "execution_count": 22,
   "metadata": {},
   "outputs": [],
   "source": [
    "from rdkit import Chem\n",
    "from rdkit.Chem.rdMolDescriptors import CalcMolFormula\n",
    "import pandas as pd\n",
    "import csv"
   ]
  },
  {
   "cell_type": "markdown",
   "metadata": {},
   "source": [
    "Creating a function that will convert the SMILES to a MOL object, then get formula, molecular weight (MW), and MOL file. "
   ]
  },
  {
   "cell_type": "code",
   "execution_count": 23,
   "metadata": {},
   "outputs": [],
   "source": [
    "def input_SMILES_list_here(SMILES):\n",
    "    \"\"\"\n",
    "    The purpose of this function is to take a SMILES string and convert it into a chemical formula,\n",
    "    an exact molecular weight, and a MOL file string.\n",
    "\n",
    "    Args:\n",
    "        SMILES: This can be either a singe string of SMILES numbers or a list of strings.\n",
    "\n",
    "    Returns:\n",
    "        A data frame will be returned that has a column headers of the original SMILES value,\n",
    "        the chemical formula, the exact MW, and the MOL file.\n",
    "\n",
    "    Important Notes:\n",
    "        If something that is entered is not a SMILES it will still add to the data frame.\n",
    "        The formula, etc. will have values of NaN.\n",
    "\n",
    "    Time:\n",
    "        This takes me ~5 seconds to work on 4000 values. \n",
    "    \"\"\"\n",
    "\n",
    "    # Creating an empty list to store the data for later.\n",
    "    SMILES_list = []\n",
    "    formula_list = []\n",
    "    exactMW_list = []\n",
    "    MOL_file_list = []\n",
    "    \n",
    "\n",
    "    for i in SMILES:\n",
    "\n",
    "        # For each SMILE, it will attempt to convert the SMILE to a MOL \"object\". If\n",
    "        # it fails then the values for formula etc. will be NaN. If successful, the \n",
    "        # MOL \"object\" is converted to formula etc. \n",
    "        try:\n",
    "\n",
    "            SMILES_list.append(i)\n",
    "            smile_to_mol_object = Chem.MolFromSmiles(i)\n",
    "            formula_list.append(CalcMolFormula(smile_to_mol_object))\n",
    "            exactMW_list.append(Chem.rdMolDescriptors.CalcExactMolWt(smile_to_mol_object))\n",
    "            MOL_file_list.append(str(Chem.MolToMolBlock(smile_to_mol_object)))\n",
    "\n",
    "        except:\n",
    "            \n",
    "            formula_list.append(\"NaN\")\n",
    "            exactMW_list.append(\"NaN\")\n",
    "            MOL_file_list.append(\"None\")\n",
    "        \n",
    "    df = pd.DataFrame({\"SMILES\": SMILES_list, \"Formula\": formula_list, \"Exact_MW\": exactMW_list, \"MOL\": MOL_file_list})\n",
    "    return df\n"
   ]
  },
  {
   "cell_type": "markdown",
   "metadata": {},
   "source": [
    "Loading Data"
   ]
  },
  {
   "cell_type": "code",
   "execution_count": 24,
   "metadata": {},
   "outputs": [],
   "source": [
    "CAS_SMILES = pd.read_csv(\"CAS_and_SMILES.csv\", header = None)\n",
    "just_smiles = CAS_SMILES[1]"
   ]
  },
  {
   "cell_type": "markdown",
   "metadata": {},
   "source": [
    "Running the function on the data."
   ]
  },
  {
   "cell_type": "code",
   "execution_count": null,
   "metadata": {},
   "outputs": [],
   "source": [
    "SMILES_to_MOL_df = input_SMILES_list_here(just_smiles)"
   ]
  },
  {
   "cell_type": "markdown",
   "metadata": {},
   "source": [
    "Cleaning and saving the data. For some reason I cannot get this to work in the function so it must be a separate step for now. "
   ]
  },
  {
   "cell_type": "code",
   "execution_count": 27,
   "metadata": {},
   "outputs": [],
   "source": [
    "SMILES_to_MOL_df[\"MOL\"] = SMILES_to_MOL_df[\"MOL\"].str.strip()\n",
    "SMILES_to_MOL_df[\"MOL\"] = SMILES_to_MOL_df[\"MOL\"].str.replace(\"RDKit          2D\\n\\n \", \" \")\n",
    "# Saving the data frame.\n",
    "SMILES_to_MOL_df.to_csv(\"EDIT_SMILES_formula_MW_MOL.csv\", index = False)"
   ]
  },
  {
   "cell_type": "markdown",
   "metadata": {},
   "source": [
    "# Testing area."
   ]
  },
  {
   "cell_type": "code",
   "execution_count": null,
   "metadata": {},
   "outputs": [],
   "source": [
    "Chem.MolFromSmiles(\"CCC\")"
   ]
  },
  {
   "cell_type": "code",
   "execution_count": null,
   "metadata": {},
   "outputs": [],
   "source": [
    "just_smiles"
   ]
  },
  {
   "cell_type": "code",
   "execution_count": null,
   "metadata": {},
   "outputs": [],
   "source": []
  }
 ],
 "metadata": {
  "kernelspec": {
   "display_name": "Python 3.10.4 ('my-rdkit-env')",
   "language": "python",
   "name": "python3"
  },
  "language_info": {
   "codemirror_mode": {
    "name": "ipython",
    "version": 3
   },
   "file_extension": ".py",
   "mimetype": "text/x-python",
   "name": "python",
   "nbconvert_exporter": "python",
   "pygments_lexer": "ipython3",
   "version": "3.10.4"
  },
  "orig_nbformat": 4,
  "vscode": {
   "interpreter": {
    "hash": "193abd2cfffe0a62fa4b2289b0ea72d7017da15691d67cc369efa262d788c39d"
   }
  }
 },
 "nbformat": 4,
 "nbformat_minor": 2
}
